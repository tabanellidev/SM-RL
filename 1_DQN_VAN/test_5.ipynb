{
 "cells": [
  {
   "cell_type": "code",
   "execution_count": 1,
   "metadata": {},
   "outputs": [],
   "source": [
    "import gym\n",
    "\n",
    "#Import game\n",
    "import gym_super_mario_bros\n",
    "\n",
    "#Import Joypad\n",
    "from nes_py.wrappers import JoypadSpace\n",
    "\n",
    "#Import Controls\n",
    "from gym_super_mario_bros.actions import SIMPLE_MOVEMENT\n",
    "\n",
    "#FrameStacking e GreyScaling\n",
    "from gym.wrappers import GrayScaleObservation\n",
    "\n",
    "#Vectorization\n",
    "from stable_baselines3.common.vec_env import VecFrameStack, DummyVecEnv\n",
    "\n",
    "#Graphs\n",
    "from matplotlib import pyplot as plt\n",
    "\n",
    "import os\n",
    "\n",
    "#Proximal Policy Optimization\n",
    "from stable_baselines3 import PPO\n",
    "from stable_baselines3 import DQN\n",
    "\n",
    "#To save models\n",
    "from stable_baselines3.common.callbacks import BaseCallback"
   ]
  },
  {
   "cell_type": "code",
   "execution_count": 2,
   "metadata": {},
   "outputs": [
    {
     "name": "stdout",
     "output_type": "stream",
     "text": [
      "Discrete(256)\n",
      "Discrete(7)\n"
     ]
    },
    {
     "name": "stderr",
     "output_type": "stream",
     "text": [
      "c:\\Users\\Taba\\Desktop\\Super Mario\\mlenv\\Lib\\site-packages\\gym\\envs\\registration.py:555: UserWarning: \u001b[33mWARN: The environment SuperMarioBros-v0 is out of date. You should consider upgrading to version `v3`.\u001b[0m\n",
      "  logger.warn(\n",
      "c:\\Users\\Taba\\Desktop\\Super Mario\\mlenv\\Lib\\site-packages\\gym\\envs\\registration.py:627: UserWarning: \u001b[33mWARN: The environment creator metadata doesn't include `render_modes`, contains: ['render.modes', 'video.frames_per_second']\u001b[0m\n",
      "  logger.warn(\n",
      "c:\\Users\\Taba\\Desktop\\Super Mario\\mlenv\\Lib\\site-packages\\stable_baselines3\\common\\vec_env\\patch_gym.py:49: UserWarning: You provided an OpenAI Gym environment. We strongly recommend transitioning to Gymnasium environments. Stable-Baselines3 is automatically wrapping your environments in a compatibility layer, which could potentially cause issues.\n",
      "  warnings.warn(\n"
     ]
    }
   ],
   "source": [
    "# [1] - Setup base environment\n",
    "env = gym_super_mario_bros.make(\"SuperMarioBros-v0\", render_mode='human', apply_api_compatibility=True)\n",
    "#256 possible actions\n",
    "print(env.action_space)\n",
    "\n",
    "# [2] - Simplify the controls, with wrapping the model will have only 7 possible actions\n",
    "env = JoypadSpace(env, SIMPLE_MOVEMENT)\n",
    "print(env.action_space)\n",
    "\n",
    "# [3] - Grayscale\n",
    "env = GrayScaleObservation(env, keep_dim=True)\n",
    "\n",
    "# [4] - Wrap inside a dummy envorinment\n",
    "env = DummyVecEnv([lambda: env])\n",
    "\n",
    "# [5] - Stack four frames\n",
    "env = VecFrameStack(env, 4, channels_order='last')\n",
    "\n",
    "#JoypadSpace doesn't correctly override the reset() method of Wrapper.\n",
    "JoypadSpace.reset = lambda self, **kwargs: self.env.reset(**kwargs)"
   ]
  },
  {
   "cell_type": "markdown",
   "metadata": {},
   "source": [
    "# Test Model"
   ]
  },
  {
   "cell_type": "code",
   "execution_count": 3,
   "metadata": {},
   "outputs": [],
   "source": [
    "##Hyperparametri\n",
    "trajectory = 4096\n",
    "iterations = 5\n",
    "\n",
    "experiments = trajectory * iterations"
   ]
  },
  {
   "cell_type": "code",
   "execution_count": 4,
   "metadata": {},
   "outputs": [],
   "source": [
    "#Functions\n",
    "def get_max_x(infos):\n",
    "\n",
    "    max_x = 0\n",
    "\n",
    "    for i in range(0,len(infos)):\n",
    "        x = infos[i][0]['x_pos']\n",
    "        if infos[i][0]['world'] == 1 and x > max_x:\n",
    "            max_x = x\n",
    "\n",
    "    return max_x\n",
    "\n",
    "def get_reward(rewards, iterations):\n",
    "\n",
    "    r =  sum(rewards) / iterations\n",
    "\n",
    "    return r"
   ]
  },
  {
   "cell_type": "code",
   "execution_count": 5,
   "metadata": {},
   "outputs": [
    {
     "name": "stdout",
     "output_type": "stream",
     "text": [
      "Opnening best_model_100000.zip\n"
     ]
    },
    {
     "name": "stderr",
     "output_type": "stream",
     "text": [
      "c:\\Users\\Taba\\Desktop\\Super Mario\\mlenv\\Lib\\site-packages\\gym\\utils\\passive_env_checker.py:233: DeprecationWarning: `np.bool8` is a deprecated alias for `np.bool_`.  (Deprecated NumPy 1.24)\n",
      "  if not isinstance(terminated, (bool, np.bool8)):\n",
      "c:\\Users\\Taba\\Desktop\\Super Mario\\mlenv\\Lib\\site-packages\\gym\\utils\\passive_env_checker.py:272: UserWarning: \u001b[33mWARN: No render modes was declared in the environment (env.metadata['render_modes'] is None or not defined), you may have trouble when calling `.render()`.\u001b[0m\n",
      "  logger.warn(\n"
     ]
    },
    {
     "name": "stdout",
     "output_type": "stream",
     "text": [
      "Opnening best_model_200000.zip\n",
      "Opnening best_model_300000.zip\n",
      "Opnening best_model_400000.zip\n",
      "Opnening best_model_500000.zip\n",
      "Opnening best_model_600000.zip\n",
      "Opnening best_model_700000.zip\n",
      "Opnening best_model_800000.zip\n",
      "Opnening best_model_900000.zip\n",
      "Opnening best_model_1000000.zip\n",
      "Opnening best_model_1100000.zip\n",
      "Opnening best_model_1200000.zip\n",
      "Opnening best_model_1300000.zip\n",
      "Opnening best_model_1400000.zip\n",
      "Opnening best_model_1500000.zip\n",
      "Opnening best_model_1600000.zip\n",
      "Opnening best_model_1700000.zip\n",
      "Opnening best_model_1800000.zip\n",
      "Opnening best_model_1900000.zip\n",
      "Opnening best_model_2000000.zip\n"
     ]
    }
   ],
   "source": [
    "i = 100000\n",
    "list_rewards = []\n",
    "list_max_x = []\n",
    "\n",
    "for i in range(i,2100000,100000):\n",
    "    filename = \"best_model_\" + str(i) + \".zip\"\n",
    "    print(\"Opnening \" + filename)\n",
    "\n",
    "    model = DQN.load('./train/'+ filename)\n",
    "\n",
    "    rewards = []\n",
    "    infos = []\n",
    "    steps = 0\n",
    "\n",
    "    #Game starting\n",
    "    state = env.reset()\n",
    "\n",
    "    while steps < experiments:\n",
    "\n",
    "        action, _state = model.predict(state)\n",
    "        \n",
    "        state, reward, done, info = env.step(action)\n",
    "\n",
    "        rewards.append(reward)\n",
    "        infos.append(info)\n",
    "        \n",
    "        steps = steps + 1\n",
    "\n",
    "        env.render()\n",
    "\n",
    "\n",
    "    list_rewards.append(get_reward(rewards,iterations))\n",
    "    list_max_x.append(get_max_x(infos))\n",
    "\n",
    "    del model"
   ]
  },
  {
   "cell_type": "code",
   "execution_count": 6,
   "metadata": {},
   "outputs": [
    {
     "data": {
      "text/plain": [
       "[722,\n",
       " 723,\n",
       " 2018,\n",
       " 598,\n",
       " 1153,\n",
       " 866,\n",
       " 899,\n",
       " 1151,\n",
       " 899,\n",
       " 849,\n",
       " 1411,\n",
       " 899,\n",
       " 898,\n",
       " 2227,\n",
       " 1522,\n",
       " 1797,\n",
       " 65535,\n",
       " 65535,\n",
       " 1520,\n",
       " 901]"
      ]
     },
     "execution_count": 6,
     "metadata": {},
     "output_type": "execute_result"
    }
   ],
   "source": [
    "list_max_x"
   ]
  },
  {
   "cell_type": "code",
   "execution_count": 7,
   "metadata": {},
   "outputs": [
    {
     "data": {
      "text/plain": [
       "[array([194.], dtype=float32),\n",
       " array([231.6], dtype=float32),\n",
       " array([937.], dtype=float32),\n",
       " array([168.2], dtype=float32),\n",
       " array([1172.2], dtype=float32),\n",
       " array([474.], dtype=float32),\n",
       " array([1060.4], dtype=float32),\n",
       " array([1586.8], dtype=float32),\n",
       " array([1290.8], dtype=float32),\n",
       " array([456.4], dtype=float32),\n",
       " array([2564.8], dtype=float32),\n",
       " array([521.8], dtype=float32),\n",
       " array([1373.8], dtype=float32),\n",
       " array([1815.4], dtype=float32),\n",
       " array([3159.8], dtype=float32),\n",
       " array([1511.6], dtype=float32),\n",
       " array([-233.8], dtype=float32),\n",
       " array([-234.4], dtype=float32),\n",
       " array([1023.], dtype=float32),\n",
       " array([736.6], dtype=float32)]"
      ]
     },
     "execution_count": 7,
     "metadata": {},
     "output_type": "execute_result"
    }
   ],
   "source": [
    "list_rewards"
   ]
  },
  {
   "cell_type": "code",
   "execution_count": 10,
   "metadata": {},
   "outputs": [
    {
     "data": {
      "text/plain": [
       "[<matplotlib.lines.Line2D at 0x1df1d65bc90>]"
      ]
     },
     "execution_count": 10,
     "metadata": {},
     "output_type": "execute_result"
    },
    {
     "data": {
      "image/png": "[encoded data removed]",
      "text/plain": [
       "<Figure size 640x480 with 1 Axes>"
      ]
     },
     "metadata": {},
     "output_type": "display_data"
    }
   ],
   "source": [
    "plt.plot(list_max_x)\n"
   ]
  },
  {
   "cell_type": "code",
   "execution_count": 11,
   "metadata": {},
   "outputs": [
    {
     "data": {
      "text/plain": [
       "[<matplotlib.lines.Line2D at 0x1df1d967010>]"
      ]
     },
     "execution_count": 11,
     "metadata": {},
     "output_type": "execute_result"
    },
    {
     "data": {
      "image/png": "[encoded data removed]",
      "text/plain": [
       "<Figure size 640x480 with 1 Axes>"
      ]
     },
     "metadata": {},
     "output_type": "display_data"
    }
   ],
   "source": [
    "plt.plot(list_rewards)\n"
   ]
  }
 ],
 "metadata": {
  "kernelspec": {
   "display_name": ".venv",
   "language": "python",
   "name": "python3"
  },
  "language_info": {
   "codemirror_mode": {
    "name": "ipython",
    "version": 3
   },
   "file_extension": ".py",
   "mimetype": "text/x-python",
   "name": "python",
   "nbconvert_exporter": "python",
   "pygments_lexer": "ipython3",
   "version": "3.11.4"
  }
 },
 "nbformat": 4,
 "nbformat_minor": 2
}
